{
  "nbformat": 4,
  "nbformat_minor": 0,
  "metadata": {
    "colab": {
      "provenance": [],
      "authorship_tag": "ABX9TyPVaJyiDa/fN0wcOLLHc9Sw",
      "include_colab_link": true
    },
    "kernelspec": {
      "name": "python3",
      "display_name": "Python 3"
    },
    "language_info": {
      "name": "python"
    }
  },
  "cells": [
    {
      "cell_type": "markdown",
      "metadata": {
        "id": "view-in-github",
        "colab_type": "text"
      },
      "source": [
        "<a href=\"https://colab.research.google.com/github/evgeniytr1509/HW_DS_7/blob/main/HW_DS7.ipynb\" target=\"_parent\"><img src=\"https://colab.research.google.com/assets/colab-badge.svg\" alt=\"Open In Colab\"/></a>"
      ]
    },
    {
      "cell_type": "code",
      "source": [
        "!pip install scikit-surprise"
      ],
      "metadata": {
        "colab": {
          "base_uri": "https://localhost:8080/"
        },
        "id": "qzoDFKpoNHMU",
        "outputId": "2ee467f2-20e9-4de0-8eab-c69a8278659b"
      },
      "execution_count": 27,
      "outputs": [
        {
          "output_type": "stream",
          "name": "stdout",
          "text": [
            "Requirement already satisfied: scikit-surprise in /usr/local/lib/python3.10/dist-packages (1.1.3)\n",
            "Requirement already satisfied: joblib>=1.0.0 in /usr/local/lib/python3.10/dist-packages (from scikit-surprise) (1.3.2)\n",
            "Requirement already satisfied: numpy>=1.17.3 in /usr/local/lib/python3.10/dist-packages (from scikit-surprise) (1.23.5)\n",
            "Requirement already satisfied: scipy>=1.3.2 in /usr/local/lib/python3.10/dist-packages (from scikit-surprise) (1.11.3)\n"
          ]
        }
      ]
    },
    {
      "cell_type": "code",
      "source": [
        "from surprise import SVD, SVDpp, NMF\n",
        "from surprise import Dataset\n",
        "from surprise import accuracy\n",
        "from surprise.model_selection import cross_validate\n",
        "from scipy.io import loadmat\n",
        "import numpy as np\n",
        "import matplotlib.pyplot as plt"
      ],
      "metadata": {
        "id": "6iDJI7kbNI9s"
      },
      "execution_count": 29,
      "outputs": []
    },
    {
      "cell_type": "code",
      "source": [
        "data = Dataset.load_builtin('ml-100k')"
      ],
      "metadata": {
        "id": "ljHlVDm3M_BV"
      },
      "execution_count": null,
      "outputs": []
    },
    {
      "cell_type": "code",
      "source": [
        "data"
      ],
      "metadata": {
        "colab": {
          "base_uri": "https://localhost:8080/"
        },
        "id": "H37dx7usNx8E",
        "outputId": "2fbbe305-007d-4700-fbb9-999b7b31b77f"
      },
      "execution_count": 30,
      "outputs": [
        {
          "output_type": "execute_result",
          "data": {
            "text/plain": [
              "<surprise.dataset.DatasetAutoFolds at 0x7fddae800490>"
            ]
          },
          "metadata": {},
          "execution_count": 30
        }
      ]
    },
    {
      "cell_type": "markdown",
      "source": [
        "Алгоритм SVD"
      ],
      "metadata": {
        "id": "rVfA_Dw8cCYj"
      }
    },
    {
      "cell_type": "code",
      "source": [
        "# Создайте объект модели SVD\n",
        "model = SVD()"
      ],
      "metadata": {
        "id": "tmuyQImGN6VU"
      },
      "execution_count": 31,
      "outputs": []
    },
    {
      "cell_type": "code",
      "source": [
        "#  кросс-валидациz\n",
        "resultSVD = cross_validate(model, data, measures=['RMSE', 'MAE'], cv=5, verbose=True)"
      ],
      "metadata": {
        "colab": {
          "base_uri": "https://localhost:8080/"
        },
        "id": "T1ltTUvDN73L",
        "outputId": "3bcf64e6-94e7-4682-b03c-f328ac776dcb"
      },
      "execution_count": 48,
      "outputs": [
        {
          "output_type": "stream",
          "name": "stdout",
          "text": [
            "Evaluating RMSE, MAE of algorithm SVDpp on 5 split(s).\n",
            "\n",
            "                  Fold 1  Fold 2  Fold 3  Fold 4  Fold 5  Mean    Std     \n",
            "RMSE (testset)    0.9206  0.9181  0.9181  0.9269  0.9189  0.9205  0.0033  \n",
            "MAE (testset)     0.7210  0.7211  0.7191  0.7266  0.7205  0.7217  0.0026  \n",
            "Fit time          26.74   26.90   27.93   27.68   27.85   27.42   0.50    \n",
            "Test time         4.60    4.27    5.24    4.47    5.06    4.73    0.37    \n"
          ]
        }
      ]
    },
    {
      "cell_type": "code",
      "source": [
        "# Выведите результаты\n",
        "for measure in ['test_rmse', 'test_mae']:\n",
        "    print(f'{measure}: {resultSVD[measure].mean()}')"
      ],
      "metadata": {
        "colab": {
          "base_uri": "https://localhost:8080/"
        },
        "id": "NXw9HPAlPVJc",
        "outputId": "e7d477bf-07e7-499c-f374-60a2ac7c4933"
      },
      "execution_count": 33,
      "outputs": [
        {
          "output_type": "stream",
          "name": "stdout",
          "text": [
            "test_rmse: 0.9354176760616545\n",
            "test_mae: 0.737553476664323\n"
          ]
        }
      ]
    },
    {
      "cell_type": "code",
      "source": [
        "algoSVDpp = SVDpp()"
      ],
      "metadata": {
        "id": "Y_WZc8pTUBtz"
      },
      "execution_count": 34,
      "outputs": []
    },
    {
      "cell_type": "markdown",
      "source": [
        "Алгоритм SVD++"
      ],
      "metadata": {
        "id": "A3E8vifFY2dr"
      }
    },
    {
      "cell_type": "code",
      "source": [
        "# объект модели SVD++\n",
        "model = SVDpp()\n",
        "\n",
        "#  кросс-валидация\n",
        "results = cross_validate(algoSVDpp, data, measures=['RMSE', 'MAE'], cv=5, verbose=True)\n",
        "\n",
        "\n",
        "for measure in ['test_rmse', 'test_mae']:\n",
        "  print(f'{measure}: {results[measure].mean()}')"
      ],
      "metadata": {
        "id": "_O7eQCyvSoOL",
        "colab": {
          "base_uri": "https://localhost:8080/"
        },
        "outputId": "6caed1ef-6cfc-4382-9ca6-7a28d2c5f317"
      },
      "execution_count": 47,
      "outputs": [
        {
          "output_type": "stream",
          "name": "stdout",
          "text": [
            "Evaluating RMSE, MAE of algorithm SVDpp on 5 split(s).\n",
            "\n",
            "                  Fold 1  Fold 2  Fold 3  Fold 4  Fold 5  Mean    Std     \n",
            "RMSE (testset)    0.9112  0.9163  0.9199  0.9248  0.9187  0.9182  0.0045  \n",
            "MAE (testset)     0.7144  0.7188  0.7210  0.7245  0.7213  0.7200  0.0033  \n",
            "Fit time          28.17   26.81   28.09   26.77   27.22   27.41   0.61    \n",
            "Test time         4.94    4.18    4.51    4.42    4.36    4.48    0.25    \n",
            "test_rmse: 0.9181690172663183\n",
            "test_mae: 0.7200071561368272\n"
          ]
        }
      ]
    },
    {
      "cell_type": "markdown",
      "source": [
        "Алгоритм NMF"
      ],
      "metadata": {
        "id": "n8am3cPAZPfb"
      }
    },
    {
      "cell_type": "code",
      "source": [
        "from surprise import NMF\n",
        "\n",
        "# модель NMF\n",
        "model = NMF()\n",
        "\n",
        "# кросс-валидацию\n",
        "results = cross_validate(model, data, measures=['RMSE', 'MAE'], cv=5, verbose=True)\n",
        "\n",
        "for measure in ['test_rmse', 'test_mae']:\n",
        "   print(f'{measure}: {results[measure].mean()}')"
      ],
      "metadata": {
        "id": "2LHxJ59wT8d0",
        "colab": {
          "base_uri": "https://localhost:8080/"
        },
        "outputId": "ad083aa1-1877-4c37-9942-0f46fadc0b0d"
      },
      "execution_count": 41,
      "outputs": [
        {
          "output_type": "stream",
          "name": "stdout",
          "text": [
            "Evaluating RMSE, MAE of algorithm NMF on 5 split(s).\n",
            "\n",
            "                  Fold 1  Fold 2  Fold 3  Fold 4  Fold 5  Mean    Std     \n",
            "RMSE (testset)    0.9622  0.9687  0.9664  0.9672  0.9518  0.9633  0.0061  \n",
            "MAE (testset)     0.7579  0.7617  0.7591  0.7597  0.7494  0.7576  0.0043  \n",
            "Fit time          2.65    2.20    2.12    2.09    2.19    2.25    0.20    \n",
            "Test time         0.19    0.25    0.10    0.24    0.11    0.18    0.06    \n",
            "test_rmse: 0.963253844712785\n",
            "test_mae: 0.7575588355555023\n"
          ]
        }
      ]
    },
    {
      "cell_type": "code",
      "source": [
        "from surprise import Dataset, Reader\n",
        "from surprise import SVD, SVDpp, NMF\n",
        "from surprise.model_selection import cross_validate\n",
        "\n",
        "\n",
        "# Создание модели\n",
        "models = [SVD(), SVDpp(), NMF()]\n",
        "\n",
        "# кросс-валидацию для каждой модели\n",
        "results = []\n",
        "for model in models:\n",
        "    cv_results = cross_validate(model, data, measures=['RMSE', 'MAE'], cv=5, verbose=True)\n",
        "    results.append(cv_results)\n",
        "\n",
        "# результаты для каждой модели\n",
        "for i, model in enumerate(models):\n",
        "    print(f\"Модель: {model.__class__.__name__}\")\n",
        "    for measure in ['test_rmse', 'test_mae']:\n",
        "        print(f'{measure}: {results[i][measure].mean()}')\n",
        "    print()\n"
      ],
      "metadata": {
        "colab": {
          "base_uri": "https://localhost:8080/"
        },
        "id": "y1Mpuf5ucYeT",
        "outputId": "54b04191-2e5e-41ca-d8a3-c514dcd2e74c"
      },
      "execution_count": 50,
      "outputs": [
        {
          "output_type": "stream",
          "name": "stdout",
          "text": [
            "Evaluating RMSE, MAE of algorithm SVD on 5 split(s).\n",
            "\n",
            "                  Fold 1  Fold 2  Fold 3  Fold 4  Fold 5  Mean    Std     \n",
            "RMSE (testset)    0.9348  0.9375  0.9373  0.9391  0.9384  0.9374  0.0015  \n",
            "MAE (testset)     0.7383  0.7401  0.7386  0.7374  0.7423  0.7393  0.0017  \n",
            "Fit time          3.02    1.40    1.38    1.36    1.36    1.70    0.66    \n",
            "Test time         0.35    0.13    0.26    0.14    0.15    0.21    0.09    \n",
            "Evaluating RMSE, MAE of algorithm SVDpp on 5 split(s).\n",
            "\n",
            "                  Fold 1  Fold 2  Fold 3  Fold 4  Fold 5  Mean    Std     \n",
            "RMSE (testset)    0.9182  0.9195  0.9233  0.9198  0.9298  0.9221  0.0042  \n",
            "MAE (testset)     0.7205  0.7221  0.7248  0.7219  0.7296  0.7238  0.0032  \n",
            "Fit time          26.67   26.65   26.79   26.55   27.00   26.73   0.15    \n",
            "Test time         5.40    4.12    5.17    4.06    4.99    4.75    0.55    \n",
            "Evaluating RMSE, MAE of algorithm NMF on 5 split(s).\n",
            "\n",
            "                  Fold 1  Fold 2  Fold 3  Fold 4  Fold 5  Mean    Std     \n",
            "RMSE (testset)    0.9632  0.9681  0.9657  0.9651  0.9546  0.9633  0.0046  \n",
            "MAE (testset)     0.7570  0.7561  0.7607  0.7615  0.7502  0.7571  0.0040  \n",
            "Fit time          2.10    2.08    2.31    2.48    2.14    2.22    0.15    \n",
            "Test time         0.12    0.25    0.19    0.11    0.11    0.15    0.06    \n",
            "Модель: SVD\n",
            "test_rmse: 0.9374069966392067\n",
            "test_mae: 0.7393231141360799\n",
            "\n",
            "Модель: SVDpp\n",
            "test_rmse: 0.9221241329201273\n",
            "test_mae: 0.7237725030847124\n",
            "\n",
            "Модель: NMF\n",
            "test_rmse: 0.9633359195303374\n",
            "test_mae: 0.7571017429602751\n",
            "\n"
          ]
        }
      ]
    },
    {
      "cell_type": "markdown",
      "source": [
        "Алгоритм SVD++ является наилучшим выбором с точки зрения точности предсказаний (Среднее RMSE: 0.9221, - наименьшее) но заметно медленнее обучается и тестируется (среднее Fit time 26,73 Test time 4.75).\n",
        "\n",
        "Алгоритм SVD также предоставляет хорошие результаты и более быструю скорость обучения и тестирования по сравнению с SVD++.\n",
        "\n",
        "Алгоритм NMF имеет более высокие значения RMSE и MAE по сравнению с SVD и SVD++, что может указывать на менее точные предсказания. Однако, время обучения и тестирования NMF сравнительно небольшое.\n",
        "\n",
        "Наиболее оптимальным вариантом предлагается выбрать алгоритм SVD++ с точки зрения точности предсказаний. Выбор наиболее оптимального алгоритма зависит от требований технического задания, а именно какие параметры модели имеют более высокий приоритет."
      ],
      "metadata": {
        "id": "1uxvfJpHhppV"
      }
    },
    {
      "cell_type": "markdown",
      "source": [
        "**Задание 2**"
      ],
      "metadata": {
        "id": "OfpwJou7lbjs"
      }
    },
    {
      "cell_type": "code",
      "source": [
        "url = 'https://drive.google.com/uc?id=189qpCpuWaVPC1V_W0J_Wld-z8LKg_f0A'\n",
        "movie_ids = pd.read_csv(url, sep='\\t', header=None, encoding='ISO-8859-1')\n"
      ],
      "metadata": {
        "id": "Rznr-fQzk1-9"
      },
      "execution_count": 119,
      "outputs": []
    },
    {
      "cell_type": "code",
      "source": [
        "import pandas as pd\n",
        "\n",
        "url = 'https://drive.google.com/uc?id=189qpCpuWaVPC1V_W0J_Wld-z8LKg_f0A'\n",
        "\n",
        "movie_ids = pd.read_csv(url, sep='\\t', header=None, encoding='ISO-8859-1')\n",
        "\n",
        "def loadMovieList(data):\n",
        "    # Извлечение названия фильмов из объекта movie_ids\n",
        "    movieNames = []\n",
        "    for movie in data[0]:\n",
        "        parts = movie.split()\n",
        "        movieNames.append(' '.join(parts[1:]).strip())\n",
        "    return movieNames\n",
        "\n",
        "names = loadMovieList(data=movie_ids)\n",
        "names[:10]"
      ],
      "metadata": {
        "colab": {
          "base_uri": "https://localhost:8080/"
        },
        "id": "2eHEvzSQw7sm",
        "outputId": "b64e99e2-bb14-4013-b4fe-b892008f95e3"
      },
      "execution_count": 120,
      "outputs": [
        {
          "output_type": "execute_result",
          "data": {
            "text/plain": [
              "['Toy Story (1995)',\n",
              " 'GoldenEye (1995)',\n",
              " 'Four Rooms (1995)',\n",
              " 'Get Shorty (1995)',\n",
              " 'Copycat (1995)',\n",
              " 'Shanghai Triad (Yao a yao yao dao waipo qiao) (1995)',\n",
              " 'Twelve Monkeys (1995)',\n",
              " 'Babe (1995)',\n",
              " 'Dead Man Walking (1995)',\n",
              " 'Richard III (1995)']"
            ]
          },
          "metadata": {},
          "execution_count": 120
        }
      ]
    },
    {
      "cell_type": "code",
      "source": [
        "import pandas as pd\n",
        "import numpy as np\n",
        "import scipy.io\n",
        "\n",
        "file_id = '18BNjMPbdvSW8wIYgejfyQuMwvrPsqqCU'\n",
        "\n",
        "# URL для доступа к файлу\n",
        "url = f'https://drive.google.com/uc?id={file_id}'\n",
        "\n",
        "movies = pd.read_csv(url, sep='\\t', header=None, encoding='ISO-8859-1')\n",
        "\n",
        "print(movies)\n",
        "\n",
        "# Сохранение содержимого movies в файл .mat\n",
        "scipy.io.savemat('movies.mat', {'movies': movies.values})\n",
        "\n",
        "# Загрузка файла .mat и получите данные\n",
        "data = loadmat('movies.mat')\n",
        "Y, R = data['Y'], data['R']\n",
        "\n",
        "# Y is a 1682x943 matrix, containing ratings (1-5) of\n",
        "# 1682 movies on 943 users\n",
        "\n",
        "# R is a 1682x943 matrix, where R(i,j) = 1\n",
        "# if and only if user j gave a rating to movie i\n",
        "\n",
        "# From the matrix, we can compute statistics like average rating.\n",
        "print('Average rating for movie 1601 (', names[1600], '): %f / 5' %\n",
        "      np.mean(Y[1600, R[0, :]]))"
      ],
      "metadata": {
        "colab": {
          "base_uri": "https://localhost:8080/",
          "height": 279
        },
        "id": "1WvE-VY52ZVo",
        "outputId": "db7240cf-e5f7-4af2-ad6a-c154b0d5a7a3"
      },
      "execution_count": 124,
      "outputs": [
        {
          "output_type": "stream",
          "name": "stdout",
          "text": [
            "                                                   0\n",
            "0  <!DOCTYPE html><html><head><title>Google Drive...\n"
          ]
        },
        {
          "output_type": "error",
          "ename": "KeyError",
          "evalue": "ignored",
          "traceback": [
            "\u001b[0;31m---------------------------------------------------------------------------\u001b[0m",
            "\u001b[0;31mKeyError\u001b[0m                                  Traceback (most recent call last)",
            "\u001b[0;32m<ipython-input-124-5cb8b9035e0a>\u001b[0m in \u001b[0;36m<cell line: 19>\u001b[0;34m()\u001b[0m\n\u001b[1;32m     17\u001b[0m \u001b[0;31m# Загрузка файла .mat и получите данные\u001b[0m\u001b[0;34m\u001b[0m\u001b[0;34m\u001b[0m\u001b[0m\n\u001b[1;32m     18\u001b[0m \u001b[0mdata\u001b[0m \u001b[0;34m=\u001b[0m \u001b[0mloadmat\u001b[0m\u001b[0;34m(\u001b[0m\u001b[0;34m'movies.mat'\u001b[0m\u001b[0;34m)\u001b[0m\u001b[0;34m\u001b[0m\u001b[0;34m\u001b[0m\u001b[0m\n\u001b[0;32m---> 19\u001b[0;31m \u001b[0mY\u001b[0m\u001b[0;34m,\u001b[0m \u001b[0mR\u001b[0m \u001b[0;34m=\u001b[0m \u001b[0mdata\u001b[0m\u001b[0;34m[\u001b[0m\u001b[0;34m'Y'\u001b[0m\u001b[0;34m]\u001b[0m\u001b[0;34m,\u001b[0m \u001b[0mdata\u001b[0m\u001b[0;34m[\u001b[0m\u001b[0;34m'R'\u001b[0m\u001b[0;34m]\u001b[0m\u001b[0;34m\u001b[0m\u001b[0;34m\u001b[0m\u001b[0m\n\u001b[0m\u001b[1;32m     20\u001b[0m \u001b[0;34m\u001b[0m\u001b[0m\n\u001b[1;32m     21\u001b[0m \u001b[0;31m# Y is a 1682x943 matrix, containing ratings (1-5) of\u001b[0m\u001b[0;34m\u001b[0m\u001b[0;34m\u001b[0m\u001b[0m\n",
            "\u001b[0;31mKeyError\u001b[0m: 'Y'"
          ]
        }
      ]
    }
  ]
}